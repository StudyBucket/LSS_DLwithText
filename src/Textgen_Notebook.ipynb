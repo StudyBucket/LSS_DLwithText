{
 "cells": [
  {
   "cell_type": "markdown",
   "metadata": {},
   "source": [
    "# DNNs with Keras\n",
    "\n",
    "nach dem Tut aus: https://github.com/llSourcell/keras_explained/blob/master/gentext.py"
   ]
  },
  {
   "cell_type": "raw",
   "metadata": {},
   "source": [
    "m = Bidirectional(CuDNNLSTM(cfg['rnn_size'],return_sequences=True),\n",
    "                                 name='rnn_{}'.format(layer_num))"
   ]
  },
  {
   "cell_type": "code",
   "execution_count": 1,
   "metadata": {},
   "outputs": [
    {
     "name": "stderr",
     "output_type": "stream",
     "text": [
      "C:\\Users\\Johanna\\Anaconda3\\lib\\site-packages\\h5py\\__init__.py:36: FutureWarning: Conversion of the second argument of issubdtype from `float` to `np.floating` is deprecated. In future, it will be treated as `np.float64 == np.dtype(float).type`.\n",
      "  from ._conv import register_converters as _register_converters\n",
      "Using TensorFlow backend.\n"
     ]
    }
   ],
   "source": [
    "from __future__ import print_function\n",
    "from keras.callbacks import LambdaCallback\n",
    "from keras.models import Sequential\n",
    "from keras.layers import Dense, Activation\n",
    "from keras.layers import LSTM\n",
    "from keras.optimizers import RMSprop\n",
    "from keras.utils.data_utils import get_file\n",
    "import numpy as np\n",
    "import random\n",
    "import sys\n",
    "import io"
   ]
  },
  {
   "cell_type": "markdown",
   "metadata": {},
   "source": [
    "## Preprocessing"
   ]
  },
  {
   "cell_type": "code",
   "execution_count": 19,
   "metadata": {},
   "outputs": [
    {
     "name": "stdout",
     "output_type": "stream",
     "text": [
      "corpus length: 540240\n"
     ]
    }
   ],
   "source": [
    "#path = get_file('bundestag.txt', origin='https://www.bundestag.de/blob/569484/7b0f24562fb8ddcbc26f6b4c0591d8f8/19050-data.xml')\n",
    "text = io.open(\"grimm.txt\", encoding='utf-8').read().lower()\n",
    "print('corpus length:', len(text))"
   ]
  },
  {
   "cell_type": "code",
   "execution_count": 20,
   "metadata": {},
   "outputs": [
    {
     "data": {
      "text/plain": [
       "'the project gutenberg ebook of grimms’ fairy tales, by the brothers grimm\\n\\nthis ebook is for the use of anyone anywhere at no cost and with\\nalmost no restrictions whatsoever.  you may copy it, give it away or\\nre-use it under the terms of the project gutenberg license included\\nwith this ebook or online at www.gutenberg.org\\n\\n\\ntitle: grimms’ fairy tales\\n\\nauthor: the brothers grimm\\n\\ntranslator: edgar taylor and marian edwardes\\n\\nposting date: december 14, 2008 [ebook #2591]\\nrelease date: april, 2001\\nlast updated: november 7, 2016\\n\\nlanguage: english\\n\\ncharacter set encoding: utf-8\\n\\n*** start of this project gutenberg ebook grimms’ fairy tales ***\\n\\n\\n\\n\\nproduced by emma dudding, john bickers, and dagny\\n\\n\\n\\n\\n\\nfairy tales\\n\\nby the brothers grimm\\n\\n\\n\\npreparer’s note\\n\\n     the text is based on translations from\\n     the grimms’ kinder und hausmarchen by\\n     edgar taylor and marian edwardes.\\n\\n\\n\\n\\ncontents:\\n\\n     the golden bird\\n     hans in luck\\n     jorinda and jorindel\\n     the travelling musicians\\n  '"
      ]
     },
     "execution_count": 20,
     "metadata": {},
     "output_type": "execute_result"
    }
   ],
   "source": [
    "text[:1000]"
   ]
  },
  {
   "cell_type": "code",
   "execution_count": 21,
   "metadata": {},
   "outputs": [
    {
     "name": "stdout",
     "output_type": "stream",
     "text": [
      "total chars: 60\n"
     ]
    }
   ],
   "source": [
    "chars = sorted(list(set(text)))\n",
    "print('total chars:', len(chars))"
   ]
  },
  {
   "cell_type": "code",
   "execution_count": 22,
   "metadata": {},
   "outputs": [
    {
     "data": {
      "text/plain": [
       "['\\n', ' ', '!', '#', '$', '%', '(', ')', '*', ',']"
      ]
     },
     "execution_count": 22,
     "metadata": {},
     "output_type": "execute_result"
    }
   ],
   "source": [
    "chars[:10]"
   ]
  },
  {
   "cell_type": "code",
   "execution_count": 23,
   "metadata": {},
   "outputs": [],
   "source": [
    "char_indices = dict((c, i) for i, c in enumerate(chars))\n",
    "indices_char = dict((i, c) for i, c in enumerate(chars))"
   ]
  },
  {
   "cell_type": "code",
   "execution_count": 24,
   "metadata": {},
   "outputs": [
    {
     "name": "stdout",
     "output_type": "stream",
     "text": [
      "nb sequences: 180067\n"
     ]
    }
   ],
   "source": [
    "# cut the text in semi-redundant sequences of maxlen characters\n",
    "maxlen = 40\n",
    "step = 3\n",
    "sentences = []\n",
    "next_chars = []\n",
    "for i in range(0, len(text) - maxlen, step):\n",
    "    sentences.append(text[i: i + maxlen])\n",
    "    next_chars.append(text[i + maxlen])\n",
    "print('nb sequences:', len(sentences))"
   ]
  },
  {
   "cell_type": "code",
   "execution_count": 25,
   "metadata": {},
   "outputs": [
    {
     "data": {
      "text/plain": [
       "['the project gutenberg ebook of grimms’ f',\n",
       " ' project gutenberg ebook of grimms’ fair',\n",
       " 'oject gutenberg ebook of grimms’ fairy t',\n",
       " 'ct gutenberg ebook of grimms’ fairy tale',\n",
       " 'gutenberg ebook of grimms’ fairy tales, ',\n",
       " 'enberg ebook of grimms’ fairy tales, by ',\n",
       " 'erg ebook of grimms’ fairy tales, by the',\n",
       " ' ebook of grimms’ fairy tales, by the br',\n",
       " 'ook of grimms’ fairy tales, by the broth',\n",
       " ' of grimms’ fairy tales, by the brothers']"
      ]
     },
     "execution_count": 25,
     "metadata": {},
     "output_type": "execute_result"
    }
   ],
   "source": [
    "sentences[:10]"
   ]
  },
  {
   "cell_type": "code",
   "execution_count": 26,
   "metadata": {},
   "outputs": [
    {
     "name": "stdout",
     "output_type": "stream",
     "text": [
      "Vectorization...\n",
      "[False False False False False False False False False False False False\n",
      " False False False False False False False False False False False False\n",
      " False False False False False False False False False False False False\n",
      " False False False False False False False False False False False False\n",
      " False False False False False False False False False False False False]\n",
      "[False False False False False False False False False False False False\n",
      " False False False False False False False False False False False False\n",
      " False False False False False False  True False False False False False\n",
      " False False False False False False False False False False False False\n",
      " False False False False False False False False False False False False]\n"
     ]
    }
   ],
   "source": [
    "print('Vectorization...')\n",
    "x = np.zeros((len(sentences), maxlen, len(chars)), dtype=np.bool)\n",
    "y = np.zeros((len(sentences), len(chars)), dtype=np.bool)\n",
    "\n",
    "print(y[0])\n",
    "for i, sentence in enumerate(sentences):\n",
    "    for t, char in enumerate(sentence):\n",
    "        x[i, t, char_indices[char]] = 1\n",
    "    y[i, char_indices[next_chars[i]]] = 1\n",
    "print(y[0])"
   ]
  },
  {
   "cell_type": "code",
   "execution_count": 27,
   "metadata": {},
   "outputs": [
    {
     "name": "stdout",
     "output_type": "stream",
     "text": [
      "[False False False False False False False False False False False False\n",
      " False False False False False False False False False False False False\n",
      " False False False False False False False False False False False False\n",
      " False False False False False False False False False False False False\n",
      " False  True False False False False False False False False False False]\n",
      "180067\n"
     ]
    }
   ],
   "source": [
    "# input\n",
    "print(x[0][0])\n",
    "print(len(x))"
   ]
  },
  {
   "cell_type": "code",
   "execution_count": 28,
   "metadata": {},
   "outputs": [
    {
     "name": "stdout",
     "output_type": "stream",
     "text": [
      "180067\n"
     ]
    }
   ],
   "source": [
    "print(len(y))"
   ]
  },
  {
   "cell_type": "code",
   "execution_count": 29,
   "metadata": {},
   "outputs": [
    {
     "name": "stdout",
     "output_type": "stream",
     "text": [
      "Build model...\n"
     ]
    }
   ],
   "source": [
    "# build the model: a LSTM\n",
    "print('Build model...')\n",
    "model = Sequential()\n",
    "model.add(LSTM(128, input_shape=(maxlen, len(chars))))\n",
    "model.add(Dense(len(chars)))\n",
    "model.add(Activation('softmax'))\n",
    "\n",
    "optimizer = RMSprop(lr=0.01)\n",
    "model.compile(loss='categorical_crossentropy', optimizer=optimizer)"
   ]
  },
  {
   "cell_type": "code",
   "execution_count": 30,
   "metadata": {},
   "outputs": [],
   "source": [
    "def sample(preds, temperature=1.0):\n",
    "    # helper function to sample an index from a probability array\n",
    "    preds = np.asarray(preds).astype('float64')\n",
    "    preds = np.log(preds) / temperature\n",
    "    exp_preds = np.exp(preds)\n",
    "    preds = exp_preds / np.sum(exp_preds)\n",
    "    probas = np.random.multinomial(1, preds, 1)\n",
    "    return np.argmax(probas)"
   ]
  },
  {
   "cell_type": "code",
   "execution_count": 31,
   "metadata": {},
   "outputs": [
    {
     "name": "stdout",
     "output_type": "stream",
     "text": [
      "Epoch 1/1\n",
      "180067/180067 [==============================] - 221s 1ms/step - loss: 1.8898\n",
      "\n",
      "----- Generating text after Epoch: 0\n",
      "----- diversity: 0.2\n",
      "----- Generating with seed: \" once upon a time an old fox with nine t\"\n",
      " once upon a time an old fox with nine to the came and the bear and the brother will a look and the word to the forest the sholl the brother to the sell and said to the coundrow and the brother have a long to the saw and said, ‘if a long and the brother to the forest and said, ‘i him. ‘i must do must as the stran and the door a look of the brother with the word to the forem to the brother and the came and said, ‘i have the door the broa\n",
      "----- diversity: 0.5\n",
      "----- Generating with seed: \" once upon a time an old fox with nine t\"\n",
      " once upon a time an old fox with nine to the brother him, and the know the brother her have to her of him to the word to the came for him, and the fore sunder shold him, and the came and will not will the farreary have him, and the not not little hill away and will be are and the had of the bearse will round a shreardd amay shold the way, and the down the walls and was will he was one will be fleer worf have it day in the drom the king\n",
      "----- diversity: 1.0\n",
      "----- Generating with seed: \" once upon a time an old fox with nine t\"\n",
      " once upon a time an old fox with nine to the princessires laid the feautiry sitcontrough, yund upon i amsed him, afl all of i muser, and a, in will the galfine\n",
      "you hay standatito\n",
      "kindsountry, nowly with be ifout, ‘mustowhinds-, and turning be sill, whande have the boll, and take scuclorly of to get amlosemane-mundree;’ ‘pell\n",
      "cather roind to him, and brost\n",
      "nogxtamy drething on’s his isom.\n",
      "and luw afrear grothtur ssilsbourly, i was fat s\n",
      "----- diversity: 1.2\n",
      "----- Generating with seed: \" once upon a time an old fox with nine t\"\n",
      " once upon a time an old fox with nine to eatly gode yesklifity nevytachedyly\n",
      "jusmacker:\n",
      "and astend, cut you him, and whush a reppuiner. the\n",
      "gite, a faily himplinllaca; me law try, wundode-dreast, upon a\n",
      "proncesply was cloker bloudd you harned her usen eloriniceams; anlother,or\n",
      "wite tomiitaty, and ke.’ and the will\n",
      "the fiveibed blaw shusting\n",
      "to\n",
      "thing oun my drovfered ardiene.’ lunged; the twhene, it,\n",
      "one whoder!’ then made took, and but\n"
     ]
    },
    {
     "data": {
      "text/plain": [
       "<keras.callbacks.History at 0x22ac26556d8>"
      ]
     },
     "execution_count": 31,
     "metadata": {},
     "output_type": "execute_result"
    }
   ],
   "source": [
    "def on_epoch_end(epoch, logs):\n",
    "    # Function invoked at end of each epoch. Prints generated text.\n",
    "    print()\n",
    "    print('----- Generating text after Epoch: %d' % epoch)\n",
    "\n",
    "    start_index = random.randint(0, len(text) - maxlen - 1)\n",
    "    for diversity in [0.2, 0.5, 1.0, 1.2]:\n",
    "        print('----- diversity:', diversity)\n",
    "\n",
    "        generated = ''\n",
    "        sentence = text[start_index: start_index + maxlen]\n",
    "        generated += sentence\n",
    "        print('----- Generating with seed: \"' + sentence + '\"')\n",
    "        sys.stdout.write(generated)\n",
    "\n",
    "        for i in range(400):\n",
    "            x_pred = np.zeros((1, maxlen, len(chars)))\n",
    "            for t, char in enumerate(sentence):\n",
    "                x_pred[0, t, char_indices[char]] = 1.\n",
    "\n",
    "            preds = model.predict(x_pred, verbose=0)[0]\n",
    "            next_index = sample(preds, diversity)\n",
    "            next_char = indices_char[next_index]\n",
    "\n",
    "            generated += next_char\n",
    "            sentence = sentence[1:] + next_char\n",
    "\n",
    "            sys.stdout.write(next_char)\n",
    "            sys.stdout.flush()\n",
    "        print()\n",
    "\n",
    "print_callback = LambdaCallback(on_epoch_end=on_epoch_end)\n",
    "\n",
    "model.fit(x, y,\n",
    "          batch_size=128,\n",
    "          epochs=1,\n",
    "          callbacks=[print_callback])"
   ]
  },
  {
   "cell_type": "code",
   "execution_count": null,
   "metadata": {
    "collapsed": true
   },
   "outputs": [],
   "source": []
  }
 ],
 "metadata": {
  "kernelspec": {
   "display_name": "Python [default]",
   "language": "python",
   "name": "python3"
  },
  "language_info": {
   "codemirror_mode": {
    "name": "ipython",
    "version": 3
   },
   "file_extension": ".py",
   "mimetype": "text/x-python",
   "name": "python",
   "nbconvert_exporter": "python",
   "pygments_lexer": "ipython3",
   "version": "3.6.5"
  }
 },
 "nbformat": 4,
 "nbformat_minor": 2
}
