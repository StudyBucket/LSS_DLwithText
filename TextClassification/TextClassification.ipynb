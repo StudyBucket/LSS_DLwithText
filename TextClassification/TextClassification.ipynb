{
 "cells": [
  {
   "cell_type": "markdown",
   "metadata": {},
   "source": [
    "# Text Classification Tutorial\n",
    "based on https://www.opencodez.com/python/text-classification-using-keras.htm\n",
    "\n",
    "- You can choose between two Data Sets\n",
    "    - Dataset ( http://archive.ics.uci.edu/ml/datasets/Reuter_50_50 ): contains documents of 50 different authors\n",
    "    - Dataset ( https://archive.ics.uci.edu/ml/datasets/Twenty+Newsgroups ): contains document of 20 different newsgroup genres"
   ]
  },
  {
   "cell_type": "code",
   "execution_count": 1,
   "metadata": {},
   "outputs": [
    {
     "name": "stderr",
     "output_type": "stream",
     "text": [
      "C:\\Users\\Johanna\\Anaconda3\\lib\\site-packages\\h5py\\__init__.py:36: FutureWarning: Conversion of the second argument of issubdtype from `float` to `np.floating` is deprecated. In future, it will be treated as `np.float64 == np.dtype(float).type`.\n",
      "  from ._conv import register_converters as _register_converters\n",
      "Using TensorFlow backend.\n"
     ]
    }
   ],
   "source": [
    "import pandas as pd\n",
    "import numpy as np\n",
    "import pickle\n",
    "\n",
    "import matplotlib.pyplot as plt\n",
    "import itertools\n",
    "\n",
    "from keras.preprocessing.text import Tokenizer\n",
    "from keras.models import Sequential\n",
    "from keras import metrics\n",
    "from keras.layers import Activation, Dense, Dropout\n",
    "from sklearn.preprocessing import LabelBinarizer\n",
    "import sklearn.datasets as skds\n",
    "from sklearn.metrics import confusion_matrix\n",
    "#from sklearn.feature_extraction.text import TfidfVectorizer\n",
    "from pathlib import Path"
   ]
  },
  {
   "cell_type": "markdown",
   "metadata": {},
   "source": [
    "## Retrieve Data"
   ]
  },
  {
   "cell_type": "code",
   "execution_count": 2,
   "metadata": {},
   "outputs": [],
   "source": [
    "# For reproducibility\n",
    "np.random.seed(1237)\n",
    " \n",
    "############ Newsgroup corpus ##############\n",
    "#path_train = \"./resources/20news-bydate/20news-bydate-train\"\n",
    "#path_test = \"./resources/20news-bydate/20news-bydate-test\"\n",
    "#num_labels = 20\n",
    "#test_files = [path_test + \"/sci.med/59225\",\n",
    "#             path_test + \"/sci.med/59229\",\n",
    "#             path_test + \"/rec.autos/103007\",\n",
    "#             path_test + \"/comp.graphics/38758\",\n",
    "#             path_test + \"/comp.graphics/38777\",]\n",
    "\n",
    "############ Reuter corpus ############## \n",
    "path_train = \"./resources/C50/C50train\"\n",
    "path_test = \"./resources/C50/C50test\"\n",
    "num_labels = 50\n",
    "\n",
    "test_files = [path_test + \"/LydiaZajc/45801newsML.txt\",\n",
    "             path_test + \"/LydiaZajc/377881newsML.txt\",\n",
    "            path_test + \"/LydiaZajc/416661newsML.txt\",\n",
    "            path_test + \"/FumikoFujisaki/416452newsML.txt\",\n",
    "            path_test + \"/KouroshKarimkhany/357767newsML.txt\"]\n",
    "\n",
    "\n",
    "##########################"
   ]
  },
  {
   "cell_type": "code",
   "execution_count": 3,
   "metadata": {},
   "outputs": [],
   "source": [
    "files_train = skds.load_files(path_train,load_content=False)\n",
    "\n",
    "file_paths = files_train.filenames #array with paths to every file\n",
    "label_names = files_train.target_names #all labels\n",
    "labelled_files_index = files_train.target #array with numerical represention of label for each file"
   ]
  },
  {
   "cell_type": "code",
   "execution_count": 4,
   "metadata": {},
   "outputs": [],
   "source": [
    "data_tags = [\"filename\",\"category\",\"article\"]\n",
    "data_list = []\n",
    "\n",
    "# Read and add data from file to a list\n",
    "i=0\n",
    "for f in file_paths:\n",
    "    data_list.append((f,\n",
    "                      label_names[labelled_files_index[i]],\n",
    "                      Path(f).read_text()))\n",
    "    i += 1\n",
    "    \n",
    "\n",
    "data = pd.DataFrame.from_records(data_list, columns=data_tags)"
   ]
  },
  {
   "cell_type": "code",
   "execution_count": 5,
   "metadata": {},
   "outputs": [
    {
     "data": {
      "text/html": [
       "<div>\n",
       "<style scoped>\n",
       "    .dataframe tbody tr th:only-of-type {\n",
       "        vertical-align: middle;\n",
       "    }\n",
       "\n",
       "    .dataframe tbody tr th {\n",
       "        vertical-align: top;\n",
       "    }\n",
       "\n",
       "    .dataframe thead th {\n",
       "        text-align: right;\n",
       "    }\n",
       "</style>\n",
       "<table border=\"1\" class=\"dataframe\">\n",
       "  <thead>\n",
       "    <tr style=\"text-align: right;\">\n",
       "      <th></th>\n",
       "      <th>filename</th>\n",
       "      <th>category</th>\n",
       "      <th>article</th>\n",
       "    </tr>\n",
       "  </thead>\n",
       "  <tbody>\n",
       "    <tr>\n",
       "      <th>0</th>\n",
       "      <td>./resources/C50/C50train\\AlanCrosby\\104278news...</td>\n",
       "      <td>AlanCrosby</td>\n",
       "      <td>The Czech Republic and Spain played to a score...</td>\n",
       "    </tr>\n",
       "    <tr>\n",
       "      <th>1</th>\n",
       "      <td>./resources/C50/C50train\\TimFarrand\\234885news...</td>\n",
       "      <td>TimFarrand</td>\n",
       "      <td>British brewer-to-leisure group Bass Plc, said...</td>\n",
       "    </tr>\n",
       "    <tr>\n",
       "      <th>2</th>\n",
       "      <td>./resources/C50/C50train\\TheresePoletti\\136917...</td>\n",
       "      <td>TheresePoletti</td>\n",
       "      <td>Unisys Corp. posted improved results in the th...</td>\n",
       "    </tr>\n",
       "    <tr>\n",
       "      <th>3</th>\n",
       "      <td>./resources/C50/C50train\\JaneMacartney\\247009n...</td>\n",
       "      <td>JaneMacartney</td>\n",
       "      <td>Intense haggling among the world's trade minis...</td>\n",
       "    </tr>\n",
       "    <tr>\n",
       "      <th>4</th>\n",
       "      <td>./resources/C50/C50train\\JoeOrtiz\\100554newsML...</td>\n",
       "      <td>JoeOrtiz</td>\n",
       "      <td>Channel tunnel operator Eurotunnel on Monday a...</td>\n",
       "    </tr>\n",
       "  </tbody>\n",
       "</table>\n",
       "</div>"
      ],
      "text/plain": [
       "                                            filename        category  \\\n",
       "0  ./resources/C50/C50train\\AlanCrosby\\104278news...      AlanCrosby   \n",
       "1  ./resources/C50/C50train\\TimFarrand\\234885news...      TimFarrand   \n",
       "2  ./resources/C50/C50train\\TheresePoletti\\136917...  TheresePoletti   \n",
       "3  ./resources/C50/C50train\\JaneMacartney\\247009n...   JaneMacartney   \n",
       "4  ./resources/C50/C50train\\JoeOrtiz\\100554newsML...        JoeOrtiz   \n",
       "\n",
       "                                             article  \n",
       "0  The Czech Republic and Spain played to a score...  \n",
       "1  British brewer-to-leisure group Bass Plc, said...  \n",
       "2  Unisys Corp. posted improved results in the th...  \n",
       "3  Intense haggling among the world's trade minis...  \n",
       "4  Channel tunnel operator Eurotunnel on Monday a...  "
      ]
     },
     "execution_count": 5,
     "metadata": {},
     "output_type": "execute_result"
    }
   ],
   "source": [
    "data.head()"
   ]
  },
  {
   "cell_type": "markdown",
   "metadata": {},
   "source": [
    "## Prepare Data\n",
    "\n",
    "- we split the training data into 80/20\n",
    "- each element contains content, tag(category) and file name\n"
   ]
  },
  {
   "cell_type": "code",
   "execution_count": 6,
   "metadata": {},
   "outputs": [],
   "source": [
    "#take 80% of data for training, the remaining 20% vor test/evaluation\n",
    "train_size = int(len(data) * .8)\n",
    " \n",
    "train_posts = data['article'][:train_size]\n",
    "train_tags = data['category'][:train_size]\n",
    "train_files_names = data['filename'][:train_size]\n",
    " \n",
    "test_posts = data['article'][train_size:]\n",
    "test_tags = data['category'][train_size:]\n",
    "test_files_names = data['filename'][train_size:]"
   ]
  },
  {
   "cell_type": "markdown",
   "metadata": {},
   "source": [
    "### Vectorization\n",
    "- documents are modelled into tfidf vectors"
   ]
  },
  {
   "cell_type": "code",
   "execution_count": 7,
   "metadata": {},
   "outputs": [],
   "source": [
    "vocab_size = 15000 #vocabulary is restricted to 15000 words\n",
    "\n",
    "tokenizer = Tokenizer(num_words=vocab_size)#takes the most [vocab_size] frequent words\n",
    "tokenizer.fit_on_texts(train_posts)#selects features\n",
    "\n",
    "x_train = tokenizer.texts_to_matrix(train_posts, mode='tfidf') #weights features\n",
    "x_test = tokenizer.texts_to_matrix(test_posts, mode='tfidf')"
   ]
  },
  {
   "cell_type": "markdown",
   "metadata": {},
   "source": [
    "### One Hot Encoding\n",
    "- each label will be transformed in a binary vector"
   ]
  },
  {
   "cell_type": "code",
   "execution_count": 8,
   "metadata": {},
   "outputs": [
    {
     "name": "stdout",
     "output_type": "stream",
     "text": [
      "Label: 'AlanCrosby' will be transformed into:\n",
      "AaronPressman: 0\n",
      "AlanCrosby: 1\n",
      "AlexanderSmith: 0\n",
      "BenjaminKangLim: 0\n",
      "BernardHickey: 0\n",
      "BradDorfman: 0\n",
      "DarrenSchuettler: 0\n",
      "DavidLawder: 0\n",
      "EdnaFernandes: 0\n",
      "EricAuchard: 0\n",
      "FumikoFujisaki: 0\n",
      "GrahamEarnshaw: 0\n",
      "HeatherScoffield: 0\n",
      "JanLopatka: 0\n",
      "JaneMacartney: 0\n",
      "JimGilchrist: 0\n",
      "JoWinterbottom: 0\n",
      "JoeOrtiz: 0\n",
      "JohnMastrini: 0\n",
      "JonathanBirt: 0\n",
      "KarlPenhaul: 0\n",
      "KeithWeir: 0\n",
      "KevinDrawbaugh: 0\n",
      "KevinMorrison: 0\n",
      "KirstinRidley: 0\n",
      "KouroshKarimkhany: 0\n",
      "LydiaZajc: 0\n",
      "LynneO'Donnell: 0\n",
      "LynnleyBrowning: 0\n",
      "MarcelMichelson: 0\n",
      "MarkBendeich: 0\n",
      "MartinWolk: 0\n",
      "MatthewBunce: 0\n",
      "MichaelConnor: 0\n",
      "MureDickie: 0\n",
      "NickLouth: 0\n",
      "PatriciaCommins: 0\n",
      "PeterHumphrey: 0\n",
      "PierreTran: 0\n",
      "RobinSidel: 0\n",
      "RogerFillion: 0\n",
      "SamuelPerry: 0\n",
      "SarahDavison: 0\n",
      "ScottHillis: 0\n",
      "SimonCowell: 0\n",
      "TanEeLyn: 0\n",
      "TheresePoletti: 0\n",
      "TimFarrand: 0\n",
      "ToddNissen: 0\n",
      "WilliamKazer: 0\n"
     ]
    }
   ],
   "source": [
    "encoder = LabelBinarizer()\n",
    "encoder.fit(train_tags)\n",
    "y_train = encoder.transform(train_tags)\n",
    "y_test = encoder.transform(test_tags)\n",
    "\n",
    "#Testprint for label vector\n",
    "print(\"Label: '\" + train_tags[0] + \"' will be transformed into:\")\n",
    "for i in range(num_labels):\n",
    "    print(encoder.classes_[i] + \": \" + str(y_train[0][i]))"
   ]
  },
  {
   "cell_type": "markdown",
   "metadata": {},
   "source": [
    "## Model Data\n",
    "\n",
    "fitting/training of the model with training(X) & test(Y) data"
   ]
  },
  {
   "cell_type": "code",
   "execution_count": 9,
   "metadata": {},
   "outputs": [
    {
     "name": "stdout",
     "output_type": "stream",
     "text": [
      "_________________________________________________________________\n",
      "Layer (type)                 Output Shape              Param #   \n",
      "=================================================================\n",
      "dense_1 (Dense)              (None, 512)               7680512   \n",
      "_________________________________________________________________\n",
      "activation_1 (Activation)    (None, 512)               0         \n",
      "_________________________________________________________________\n",
      "dropout_1 (Dropout)          (None, 512)               0         \n",
      "_________________________________________________________________\n",
      "dense_2 (Dense)              (None, 512)               262656    \n",
      "_________________________________________________________________\n",
      "activation_2 (Activation)    (None, 512)               0         \n",
      "_________________________________________________________________\n",
      "dropout_2 (Dropout)          (None, 512)               0         \n",
      "_________________________________________________________________\n",
      "dense_3 (Dense)              (None, 50)                25650     \n",
      "_________________________________________________________________\n",
      "activation_3 (Activation)    (None, 50)                0         \n",
      "=================================================================\n",
      "Total params: 7,968,818\n",
      "Trainable params: 7,968,818\n",
      "Non-trainable params: 0\n",
      "_________________________________________________________________\n"
     ]
    }
   ],
   "source": [
    "model = Sequential()\n",
    "model.add(Dense(512, input_shape=(vocab_size,)))\n",
    "model.add(Activation('sigmoid'))\n",
    "model.add(Dropout(0.3))\n",
    "model.add(Dense(512)) \n",
    "model.add(Activation('sigmoid'))\n",
    "model.add(Dropout(0.3))\n",
    "model.add(Dense(num_labels))\n",
    "model.add(Activation('softmax'))\n",
    "model.summary()"
   ]
  },
  {
   "cell_type": "code",
   "execution_count": 10,
   "metadata": {},
   "outputs": [
    {
     "name": "stdout",
     "output_type": "stream",
     "text": [
      "Train on 1800 samples, validate on 200 samples\n",
      "Epoch 1/5\n",
      "1800/1800 [==============================] - 7s 4ms/step - loss: 3.6876 - acc: 0.1356 - val_loss: 2.9916 - val_acc: 0.6250\n",
      "Epoch 2/5\n",
      "1800/1800 [==============================] - 5s 3ms/step - loss: 2.3013 - acc: 0.7161 - val_loss: 1.9401 - val_acc: 0.7850\n",
      "Epoch 3/5\n",
      "1800/1800 [==============================] - 6s 3ms/step - loss: 1.1569 - acc: 0.9344 - val_loss: 1.1684 - val_acc: 0.8550\n",
      "Epoch 4/5\n",
      "1800/1800 [==============================] - 5s 3ms/step - loss: 0.4931 - acc: 0.9789 - val_loss: 0.7988 - val_acc: 0.8900\n",
      "Epoch 5/5\n",
      "1800/1800 [==============================] - 5s 3ms/step - loss: 0.2209 - acc: 0.9950 - val_loss: 0.6621 - val_acc: 0.8950\n"
     ]
    }
   ],
   "source": [
    "batch_size = 100\n",
    "epochs = 5\n",
    "verbose = 1 #verbosity mode\n",
    "validation_split = 0.1\n",
    "\n",
    "model.compile(loss='categorical_crossentropy', #loss function for multiclass classification\n",
    "              optimizer='adam',\n",
    "              metrics=['accuracy'])\n",
    "\n",
    "history = model.fit(x_train, y_train,\n",
    "                    batch_size=batch_size,\n",
    "                    epochs=epochs,\n",
    "                    verbose=verbose,\n",
    "                    validation_split=validation_split)"
   ]
  },
  {
   "cell_type": "markdown",
   "metadata": {},
   "source": [
    "### Evaluation"
   ]
  },
  {
   "cell_type": "code",
   "execution_count": 11,
   "metadata": {},
   "outputs": [
    {
     "name": "stdout",
     "output_type": "stream",
     "text": [
      "500/500 [==============================] - 0s 812us/step\n",
      "['loss', 'acc']\n",
      "[0.6883858680725098, 0.8319999933242798]\n"
     ]
    }
   ],
   "source": [
    "result = model.evaluate(x_test, y_test,\n",
    "                    batch_size=batch_size,\n",
    "                    verbose=1)\n",
    "\n",
    "print(model.metrics_names)\n",
    "print(result)"
   ]
  },
  {
   "cell_type": "markdown",
   "metadata": {},
   "source": [
    "## Predicting some unseen documents\n",
    "\n",
    "- files are taken from the test folder\n",
    "- steps: content tokenization, prediction, comparison with actual tag"
   ]
  },
  {
   "cell_type": "code",
   "execution_count": 12,
   "metadata": {},
   "outputs": [],
   "source": [
    "x_data = []\n",
    "for t_f in test_files:\n",
    "    t_f_data = Path(t_f).read_text()\n",
    "    x_data.append(t_f_data)\n",
    " \n",
    "x_data_series = pd.Series(x_data)\n",
    "x_vectorized = tokenizer.texts_to_matrix(x_data_series, mode='tfidf')"
   ]
  },
  {
   "cell_type": "code",
   "execution_count": 13,
   "metadata": {},
   "outputs": [
    {
     "name": "stdout",
     "output_type": "stream",
     "text": [
      "The Toronto Stock Exchange's move to decimal trading from fractions this year ha\n",
      "File -> ./resources/C50/C50test/LydiaZajc/45801newsML.txt Predicted label: LydiaZajc\n",
      "********************************\n",
      "The Toronto stock market ended mixed in heavy dealings on Friday but the key ind\n",
      "File -> ./resources/C50/C50test/LydiaZajc/377881newsML.txt Predicted label: LydiaZajc\n",
      "********************************\n",
      "Software maker Cognos Inc sees another strong year in fiscal 1998 and a share bu\n",
      "File -> ./resources/C50/C50test/LydiaZajc/416661newsML.txt Predicted label: KevinDrawbaugh\n",
      "********************************\n",
      "Japanese workers are facing another year of marginal salary increases as traditi\n",
      "File -> ./resources/C50/C50test/FumikoFujisaki/416452newsML.txt Predicted label: FumikoFujisaki\n",
      "********************************\n",
      "Apple Computer Inc. said Tuesday it will consolidate its independent marketing a\n",
      "File -> ./resources/C50/C50test/KouroshKarimkhany/357767newsML.txt Predicted label: KouroshKarimkhany\n",
      "********************************\n"
     ]
    }
   ],
   "source": [
    "i=0\n",
    "for x_t in x_vectorized:\n",
    "    print(x_data[i][:80])\n",
    "    prediction = model.predict(np.array([x_t])) #returns propabilities for each label\n",
    "    predicted_label = encoder.classes_[np.argmax(prediction[0])] #chooses the most propable label\n",
    "    print(\"File ->\", test_files[i], \"Predicted label: \" + predicted_label)\n",
    "    print(\"********************************\")\n",
    "    i += 1"
   ]
  },
  {
   "cell_type": "markdown",
   "metadata": {},
   "source": [
    "## Evaluate on Test Data\n",
    "### Retrieve Data"
   ]
  },
  {
   "cell_type": "code",
   "execution_count": 14,
   "metadata": {},
   "outputs": [],
   "source": [
    "files_test = skds.load_files(path_test,load_content=False)"
   ]
  },
  {
   "cell_type": "code",
   "execution_count": 15,
   "metadata": {},
   "outputs": [],
   "source": [
    "file_paths = files_test.filenames #array with paths to every file\n",
    "label_names = files_test.target_names #all labels\n",
    "labelled_files_index = files_test.target #array with numerical represention of label for each file"
   ]
  },
  {
   "cell_type": "code",
   "execution_count": 16,
   "metadata": {},
   "outputs": [],
   "source": [
    "data_tags = [\"filename\",\"category\",\"article\"]\n",
    "data_list = []\n",
    "\n",
    "# Read and add data from file to a list\n",
    "i=0\n",
    "for f in file_paths:\n",
    "    data_list.append((f,\n",
    "                      label_names[labelled_files_index[i]],\n",
    "                      Path(f).read_text()))\n",
    "    i += 1\n",
    "    \n",
    "\n",
    "data = pd.DataFrame.from_records(data_list, columns=data_tags)"
   ]
  },
  {
   "cell_type": "markdown",
   "metadata": {},
   "source": [
    "### Prepare Data"
   ]
  },
  {
   "cell_type": "code",
   "execution_count": 17,
   "metadata": {},
   "outputs": [],
   "source": [
    "test_posts = data['article']\n",
    "test_tags = data['category']\n",
    "test_files_names = data['filename']"
   ]
  },
  {
   "cell_type": "code",
   "execution_count": 18,
   "metadata": {},
   "outputs": [],
   "source": [
    "#x_test = vectorizer.transform(test_posts)\n",
    "x_test = tokenizer.texts_to_matrix(test_posts, mode='tfidf')\n",
    "\n",
    "encoder = LabelBinarizer()\n",
    "encoder.fit(train_tags)\n",
    "y_test = encoder.transform(test_tags)"
   ]
  },
  {
   "cell_type": "markdown",
   "metadata": {},
   "source": [
    "### Predict Labels"
   ]
  },
  {
   "cell_type": "code",
   "execution_count": 19,
   "metadata": {},
   "outputs": [],
   "source": [
    "probs = model.predict(x_test) #matrix with probabilities for each label per document\n",
    "y_pred = np.argmax(probs, axis=1)#array with labels for each document"
   ]
  },
  {
   "cell_type": "markdown",
   "metadata": {},
   "source": [
    "### Visualize Results"
   ]
  },
  {
   "cell_type": "code",
   "execution_count": 20,
   "metadata": {},
   "outputs": [],
   "source": [
    "cf = confusion_matrix(y_pred, labelled_files_index)"
   ]
  },
  {
   "cell_type": "code",
   "execution_count": 21,
   "metadata": {},
   "outputs": [
    {
     "data": {
      "image/png": "[encoded data removed]",
      "text/plain": [
       "<Figure size 720x720 with 2 Axes>"
      ]
     },
     "metadata": {},
     "output_type": "display_data"
    }
   ],
   "source": [
    "labels = encoder.classes_\n",
    "\n",
    "fig = plt.figure(figsize=(10,10))\n",
    "ax = fig.add_subplot(111)\n",
    "cax = ax.matshow(cf)\n",
    "fig.colorbar(cax)\n",
    "ax.set_yticks(np.arange(len(labels)))\n",
    "ax.set_xticks(np.arange(len(labels)))\n",
    "ax.set_xticklabels(labels, rotation='vertical')\n",
    "ax.set_yticklabels(labels)\n",
    "#ax.set_yticklabels(np.arrage(len(test_tags)), test_tags)\n",
    "plt.xlabel('Predicted')\n",
    "plt.ylabel('True')\n",
    "plt.show()"
   ]
  },
  {
   "cell_type": "code",
   "execution_count": null,
   "metadata": {},
   "outputs": [],
   "source": []
  }
 ],
 "metadata": {
  "kernelspec": {
   "display_name": "Python [conda env:Anaconda3]",
   "language": "python",
   "name": "conda-env-Anaconda3-py"
  },
  "language_info": {
   "codemirror_mode": {
    "name": "ipython",
    "version": 3
   },
   "file_extension": ".py",
   "mimetype": "text/x-python",
   "name": "python",
   "nbconvert_exporter": "python",
   "pygments_lexer": "ipython3",
   "version": "3.6.5"
  }
 },
 "nbformat": 4,
 "nbformat_minor": 2
}
